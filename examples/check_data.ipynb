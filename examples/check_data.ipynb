{
 "cells": [
  {
   "cell_type": "code",
   "execution_count": 1,
   "metadata": {},
   "outputs": [],
   "source": [
    "%load_ext autoreload\n",
    "%autoreload 2"
   ]
  },
  {
   "cell_type": "code",
   "execution_count": 2,
   "metadata": {},
   "outputs": [],
   "source": [
    "from pathlib import Path\n",
    "import pickle\n",
    "import sys\n",
    "\n",
    "sys.path.append(\"../src\")\n",
    "\n",
    "import pandas as pd\n",
    "from scraper import SalaryByCompany, SalaryByState"
   ]
  },
  {
   "cell_type": "markdown",
   "metadata": {},
   "source": [
    "## Companies by Industry"
   ]
  },
  {
   "cell_type": "code",
   "execution_count": 3,
   "metadata": {},
   "outputs": [],
   "source": [
    "file = Path(\"../data/salary/by_companies/20221123-032958.pickle\")\n",
    "\n",
    "with file.open(mode=\"rb\") as f:\n",
    "    salaries = pickle.load(f)\n",
    "df = pd.DataFrame(salaries)"
   ]
  },
  {
   "cell_type": "code",
   "execution_count": 4,
   "metadata": {},
   "outputs": [
    {
     "data": {
      "text/html": [
       "<div>\n",
       "<style scoped>\n",
       "    .dataframe tbody tr th:only-of-type {\n",
       "        vertical-align: middle;\n",
       "    }\n",
       "\n",
       "    .dataframe tbody tr th {\n",
       "        vertical-align: top;\n",
       "    }\n",
       "\n",
       "    .dataframe thead th {\n",
       "        text-align: right;\n",
       "    }\n",
       "</style>\n",
       "<table border=\"1\" class=\"dataframe\">\n",
       "  <thead>\n",
       "    <tr style=\"text-align: right;\">\n",
       "      <th></th>\n",
       "      <th>company</th>\n",
       "      <th>url</th>\n",
       "      <th>industry</th>\n",
       "      <th>salary</th>\n",
       "      <th>hourly_rate</th>\n",
       "      <th>bonus</th>\n",
       "      <th>rating</th>\n",
       "      <th>time_added</th>\n",
       "    </tr>\n",
       "  </thead>\n",
       "  <tbody>\n",
       "    <tr>\n",
       "      <th>10</th>\n",
       "      <td>Aaron's</td>\n",
       "      <td>https://www.payscale.com/research/US/Employer=...</td>\n",
       "      <td>Real Estate &amp; Rental/Leasing</td>\n",
       "      <td>73000.0</td>\n",
       "      <td>13.2</td>\n",
       "      <td>3000.0</td>\n",
       "      <td>3.3</td>\n",
       "      <td>2022-11-23 02:18:12.582726</td>\n",
       "    </tr>\n",
       "    <tr>\n",
       "      <th>11</th>\n",
       "      <td>Aaron's Rent, Inc.</td>\n",
       "      <td>https://www.payscale.com/research/US/Employer=...</td>\n",
       "      <td>Real Estate &amp; Rental/Leasing</td>\n",
       "      <td>61000.0</td>\n",
       "      <td>13.1</td>\n",
       "      <td>4000.0</td>\n",
       "      <td>2.8</td>\n",
       "      <td>2022-11-23 02:18:14.920490</td>\n",
       "    </tr>\n",
       "    <tr>\n",
       "      <th>23</th>\n",
       "      <td>Aggreko, LLC</td>\n",
       "      <td>https://www.payscale.com/research/US/Employer=...</td>\n",
       "      <td>Real Estate &amp; Rental/Leasing</td>\n",
       "      <td>84000.0</td>\n",
       "      <td>22.1</td>\n",
       "      <td>12000.0</td>\n",
       "      <td>NaN</td>\n",
       "      <td>2022-11-23 02:18:42.163383</td>\n",
       "    </tr>\n",
       "    <tr>\n",
       "      <th>25</th>\n",
       "      <td>Ahern Rentals, Inc.</td>\n",
       "      <td>https://www.payscale.com/research/US/Employer=...</td>\n",
       "      <td>Real Estate &amp; Rental/Leasing</td>\n",
       "      <td>63000.0</td>\n",
       "      <td>20.7</td>\n",
       "      <td>4000.0</td>\n",
       "      <td>4.0</td>\n",
       "      <td>2022-11-23 02:18:45.840609</td>\n",
       "    </tr>\n",
       "    <tr>\n",
       "      <th>32</th>\n",
       "      <td>Alban Tractor Co. Inc</td>\n",
       "      <td>https://www.payscale.com/research/US/Employer=...</td>\n",
       "      <td>Real Estate &amp; Rental/Leasing</td>\n",
       "      <td>68000.0</td>\n",
       "      <td>23.4</td>\n",
       "      <td>9000.0</td>\n",
       "      <td>3.5</td>\n",
       "      <td>2022-11-23 02:19:06.743897</td>\n",
       "    </tr>\n",
       "  </tbody>\n",
       "</table>\n",
       "</div>"
      ],
      "text/plain": [
       "                  company                                                url  \\\n",
       "10                Aaron's  https://www.payscale.com/research/US/Employer=...   \n",
       "11     Aaron's Rent, Inc.  https://www.payscale.com/research/US/Employer=...   \n",
       "23           Aggreko, LLC  https://www.payscale.com/research/US/Employer=...   \n",
       "25    Ahern Rentals, Inc.  https://www.payscale.com/research/US/Employer=...   \n",
       "32  Alban Tractor Co. Inc  https://www.payscale.com/research/US/Employer=...   \n",
       "\n",
       "                        industry   salary  hourly_rate    bonus  rating  \\\n",
       "10  Real Estate & Rental/Leasing  73000.0         13.2   3000.0     3.3   \n",
       "11  Real Estate & Rental/Leasing  61000.0         13.1   4000.0     2.8   \n",
       "23  Real Estate & Rental/Leasing  84000.0         22.1  12000.0     NaN   \n",
       "25  Real Estate & Rental/Leasing  63000.0         20.7   4000.0     4.0   \n",
       "32  Real Estate & Rental/Leasing  68000.0         23.4   9000.0     3.5   \n",
       "\n",
       "                   time_added  \n",
       "10 2022-11-23 02:18:12.582726  \n",
       "11 2022-11-23 02:18:14.920490  \n",
       "23 2022-11-23 02:18:42.163383  \n",
       "25 2022-11-23 02:18:45.840609  \n",
       "32 2022-11-23 02:19:06.743897  "
      ]
     },
     "execution_count": 4,
     "metadata": {},
     "output_type": "execute_result"
    }
   ],
   "source": [
    "df.dropna(subset=[\"salary\"]).head()"
   ]
  },
  {
   "cell_type": "markdown",
   "metadata": {},
   "source": [
    "## States"
   ]
  },
  {
   "cell_type": "code",
   "execution_count": 5,
   "metadata": {},
   "outputs": [],
   "source": [
    "file = Path(\"../data/salary/by_states/20221124-112104.pickle\")\n",
    "\n",
    "with file.open(mode=\"rb\") as f:\n",
    "    salaries = pickle.load(f)\n",
    "df = pd.DataFrame(salaries)"
   ]
  },
  {
   "cell_type": "code",
   "execution_count": 6,
   "metadata": {},
   "outputs": [
    {
     "data": {
      "text/html": [
       "<div>\n",
       "<style scoped>\n",
       "    .dataframe tbody tr th:only-of-type {\n",
       "        vertical-align: middle;\n",
       "    }\n",
       "\n",
       "    .dataframe tbody tr th {\n",
       "        vertical-align: top;\n",
       "    }\n",
       "\n",
       "    .dataframe thead th {\n",
       "        text-align: right;\n",
       "    }\n",
       "</style>\n",
       "<table border=\"1\" class=\"dataframe\">\n",
       "  <thead>\n",
       "    <tr style=\"text-align: right;\">\n",
       "      <th></th>\n",
       "      <th>state</th>\n",
       "      <th>url</th>\n",
       "      <th>date_added</th>\n",
       "      <th>salary</th>\n",
       "      <th>hourly_rate</th>\n",
       "    </tr>\n",
       "  </thead>\n",
       "  <tbody>\n",
       "    <tr>\n",
       "      <th>0</th>\n",
       "      <td>Delaware</td>\n",
       "      <td>https://www.payscale.com/research/US/State=Del...</td>\n",
       "      <td>2022-11-24 11:20:54.852602</td>\n",
       "      <td>69000.0</td>\n",
       "      <td>18.09</td>\n",
       "    </tr>\n",
       "    <tr>\n",
       "      <th>1</th>\n",
       "      <td>Arkansas</td>\n",
       "      <td>https://www.payscale.com/research/US/State=Ark...</td>\n",
       "      <td>2022-11-24 11:20:54.847279</td>\n",
       "      <td>59000.0</td>\n",
       "      <td>15.87</td>\n",
       "    </tr>\n",
       "    <tr>\n",
       "      <th>2</th>\n",
       "      <td>Colorado</td>\n",
       "      <td>https://www.payscale.com/research/US/State=Col...</td>\n",
       "      <td>2022-11-24 11:20:54.850024</td>\n",
       "      <td>72000.0</td>\n",
       "      <td>20.15</td>\n",
       "    </tr>\n",
       "    <tr>\n",
       "      <th>3</th>\n",
       "      <td>Hawaii</td>\n",
       "      <td>https://www.payscale.com/research/US/State=Haw...</td>\n",
       "      <td>2022-11-24 11:20:54.856851</td>\n",
       "      <td>69000.0</td>\n",
       "      <td>20.19</td>\n",
       "    </tr>\n",
       "    <tr>\n",
       "      <th>4</th>\n",
       "      <td>Florida</td>\n",
       "      <td>https://www.payscale.com/research/US/State=Flo...</td>\n",
       "      <td>2022-11-24 11:20:54.853597</td>\n",
       "      <td>65000.0</td>\n",
       "      <td>17.55</td>\n",
       "    </tr>\n",
       "  </tbody>\n",
       "</table>\n",
       "</div>"
      ],
      "text/plain": [
       "      state                                                url  \\\n",
       "0  Delaware  https://www.payscale.com/research/US/State=Del...   \n",
       "1  Arkansas  https://www.payscale.com/research/US/State=Ark...   \n",
       "2  Colorado  https://www.payscale.com/research/US/State=Col...   \n",
       "3    Hawaii  https://www.payscale.com/research/US/State=Haw...   \n",
       "4   Florida  https://www.payscale.com/research/US/State=Flo...   \n",
       "\n",
       "                  date_added   salary  hourly_rate  \n",
       "0 2022-11-24 11:20:54.852602  69000.0        18.09  \n",
       "1 2022-11-24 11:20:54.847279  59000.0        15.87  \n",
       "2 2022-11-24 11:20:54.850024  72000.0        20.15  \n",
       "3 2022-11-24 11:20:54.856851  69000.0        20.19  \n",
       "4 2022-11-24 11:20:54.853597  65000.0        17.55  "
      ]
     },
     "execution_count": 6,
     "metadata": {},
     "output_type": "execute_result"
    }
   ],
   "source": [
    "df.head()"
   ]
  }
 ],
 "metadata": {
  "kernelspec": {
   "display_name": "Python 3.10.6 ('.venv': venv)",
   "language": "python",
   "name": "python3"
  },
  "language_info": {
   "codemirror_mode": {
    "name": "ipython",
    "version": 3
   },
   "file_extension": ".py",
   "mimetype": "text/x-python",
   "name": "python",
   "nbconvert_exporter": "python",
   "pygments_lexer": "ipython3",
   "version": "3.10.6"
  },
  "orig_nbformat": 4,
  "vscode": {
   "interpreter": {
    "hash": "774a6e0540b32a5536b3b8710ec542a545875b7c7aae795f91f7d515f0f65ed7"
   }
  }
 },
 "nbformat": 4,
 "nbformat_minor": 2
}
